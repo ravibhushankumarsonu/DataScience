{
 "cells": [
  {
   "cell_type": "code",
   "execution_count": 1,
   "metadata": {
    "collapsed": true
   },
   "outputs": [],
   "source": [
    "import re #regular expression\n",
    "import numpy as np\n",
    "import matplotlib.pyplot as plt\n",
    "import pandas as pd\n",
    "import seaborn as sns"
   ]
  },
  {
   "cell_type": "code",
   "execution_count": 16,
   "metadata": {
    "collapsed": true
   },
   "outputs": [],
   "source": [
    "#checking the string \n",
    "str=\"I am persuing B. Tech in Indian School of mines Dhanbad.\"\n",
    "reg=r'(.*) Indian (.*) .*'"
   ]
  },
  {
   "cell_type": "code",
   "execution_count": 6,
   "metadata": {},
   "outputs": [
    {
     "name": "stdout",
     "output_type": "stream",
     "text": [
      "I am persuing B. Tech in Indian School of Mines Dhanbad.\n"
     ]
    }
   ],
   "source": [
    "sol=re.match(reg,str)#is only check at the begining of the string\n",
    "print(sol.group())"
   ]
  },
  {
   "cell_type": "markdown",
   "metadata": {},
   "source": [
    "Code for the Regular Expression Matching and Searching<br>\n",
    "    Matching provide only the start position search but Search provide the whole string search\n",
    "Important link is [Regular Experision Python](https://www.tutorialspoint.com/python/python_reg_expressions.htm) and General regular expression [Website](https://www.regular-expressions.info/characters.html)"
   ]
  },
  {
   "cell_type": "code",
   "execution_count": 17,
   "metadata": {},
   "outputs": [
    {
     "name": "stdout",
     "output_type": "stream",
     "text": [
      "No match\n",
      "mines\n"
     ]
    }
   ],
   "source": [
    "reg=r'Mines'\n",
    "sol=re.match(rega,str)\n",
    "if sol:\n",
    "    print(sol.group())\n",
    "else:\n",
    "    print('No match')\n",
    "\n",
    "sol=re.search(reg,str,re.I)#Serch is searching in whole data\n",
    "#re.I for the case Ignoring statements\n",
    "if sol:\n",
    "    print(sol.group())\n",
    "else:\n",
    "    print('No match')\n"
   ]
  },
  {
   "cell_type": "markdown",
   "metadata": {},
   "source": [
    "Search and Replace and string literal"
   ]
  },
  {
   "cell_type": "code",
   "execution_count": 19,
   "metadata": {},
   "outputs": [
    {
     "name": "stdout",
     "output_type": "stream",
     "text": [
      "Phone Num :  2004-959-559 \n",
      "Phone Num :  2004959559\n"
     ]
    }
   ],
   "source": [
    "phone = \"2004-959-559 # This is Phone Number\"\n",
    "\n",
    "# Delete Python-style comments\n",
    "num = re.sub(r'#.*$', \"\", phone)\n",
    "print(\"Phone Num : \", num)\n",
    "\n",
    "# Remove anything other than digits\n",
    "num = re.sub(r'\\D', \"\", phone)    \n",
    "print(\"Phone Num : \", num)"
   ]
  },
  {
   "cell_type": "code",
   "execution_count": 65,
   "metadata": {},
   "outputs": [
    {
     "name": "stdout",
     "output_type": "stream",
     "text": [
      "8\n"
     ]
    }
   ],
   "source": [
    "str='this is my number 08603436230'\n",
    "reg=r'[1-9]{1}'\n",
    "sol=re.search(reg,str,re.M|re.I)\n",
    "if sol:\n",
    "    print(sol.group())\n",
    "else:\n",
    "    print(\"False\")"
   ]
  },
  {
   "cell_type": "code",
   "execution_count": 85,
   "metadata": {},
   "outputs": [
    {
     "name": "stdout",
     "output_type": "stream",
     "text": [
      "['1', '2']\n"
     ]
    }
   ],
   "source": [
    "str='..12345678910111213141516171820212223'\n",
    "reg=r'([A-Z0-9a-z])\\1+'#Maching the first alphanumeric character\n",
    "sol=re.findall(reg,str)\n",
    "print(sol)"
   ]
  },
  {
   "cell_type": "code",
   "execution_count": 87,
   "metadata": {},
   "outputs": [
    {
     "name": "stdout",
     "output_type": "stream",
     "text": [
      "ee\n",
      "Ioo\n",
      "Oeo\n",
      "eeeee\n"
     ]
    }
   ],
   "source": [
    "str1='rabcdeefgyYhFjkIoomnpOeorteeeeet'\n",
    "reg=r'[aeiou]+[aeiou]'\n",
    "sol=re.findall(reg,str1,re.I)\n",
    "if sol:\n",
    "    for item in sol:\n",
    "        print(item)\n",
    "else:\n",
    "    print(-1)\n"
   ]
  },
  {
   "cell_type": "code",
   "execution_count": null,
   "metadata": {
    "collapsed": true
   },
   "outputs": [],
   "source": []
  }
 ],
 "metadata": {
  "kernelspec": {
   "display_name": "Python 3",
   "language": "python",
   "name": "python3"
  },
  "language_info": {
   "codemirror_mode": {
    "name": "ipython",
    "version": 3
   },
   "file_extension": ".py",
   "mimetype": "text/x-python",
   "name": "python",
   "nbconvert_exporter": "python",
   "pygments_lexer": "ipython3",
   "version": "3.6.2"
  }
 },
 "nbformat": 4,
 "nbformat_minor": 2
}
