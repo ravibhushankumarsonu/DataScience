{
 "cells": [
  {
   "cell_type": "markdown",
   "metadata": {},
   "source": [
    "<h1>DataScraping and storing</h1>"
   ]
  },
  {
   "cell_type": "code",
   "execution_count": 1,
   "metadata": {},
   "outputs": [],
   "source": [
    "import matplotlib.pyplot as plt\n",
    "import numpy as np\n",
    "import pandas as pd\n",
    "from bs4 import BeautifulSoup\n",
    "import requests\n",
    "import urllib3"
   ]
  },
  {
   "cell_type": "code",
   "execution_count": 10,
   "metadata": {},
   "outputs": [],
   "source": [
    "def make_soup(url):\n",
    "    html=requests.get(url)\n",
    "    return BeautifulSoup(html.text,'html.parser')"
   ]
  },
  {
   "cell_type": "code",
   "execution_count": 21,
   "metadata": {},
   "outputs": [
    {
     "ename": "SyntaxError",
     "evalue": "unexpected EOF while parsing (<ipython-input-21-027763fc7469>, line 4)",
     "output_type": "error",
     "traceback": [
      "\u001b[0;36m  File \u001b[0;32m\"<ipython-input-21-027763fc7469>\"\u001b[0;36m, line \u001b[0;32m4\u001b[0m\n\u001b[0;31m    src=urljoin(url, link)\u001b[0m\n\u001b[0m                          ^\u001b[0m\n\u001b[0;31mSyntaxError\u001b[0m\u001b[0;31m:\u001b[0m unexpected EOF while parsing\n"
     ]
    }
   ],
   "source": [
    "def download_image(url,link):\n",
    "    try:\n",
    "        filename=link.strip().split('/')[-1].strip()\n",
    "        src=urljoin(url, link)\n",
    "    except:\n",
    "        print('An error occured. Continuing')\n",
    "    return \n",
    "    "
   ]
  },
  {
   "cell_type": "code",
   "execution_count": 19,
   "metadata": {},
   "outputs": [],
   "source": [
    "def get_images(url):\n",
    "    soup= make_soup(url)\n",
    "    #print(soup.prettify()[0:1000])\n",
    "    images=[img for img in soup.findAll('img')]\n",
    "    #print(images)\n",
    "    print(str(len(images))+ \" images found.\")\n",
    "    print('Downloading images to current working directory.')\n",
    "    image_links=[each.get('src') for each in images]\n",
    "    print(image_links)\n",
    "    return 0"
   ]
  },
  {
   "cell_type": "code",
   "execution_count": 20,
   "metadata": {},
   "outputs": [
    {
     "name": "stdout",
     "output_type": "stream",
     "text": [
      "35 images found.\n",
      "Downloading images to current working directory.\n",
      "[None, 'https://static.pexels.com/users/avatars/91955/rawpixel-com-986-small.png', 'https://static.pexels.com/users/avatars/153731/tobi-dami-228-small.jpeg', 'https://static.pexels.com/users/avatars/18128/tatiana-625-small.jpeg', 'https://static.pexels.com/users/avatars/189720/dhyamis-kleber-712-small.jpeg', 'https://static.pexels.com/users/avatars/89898/lukas-130-small.png', 'https://static.pexels.com/users/avatars/133446/ifreestock-811-small.png', '/assets/icons/award-81854752394f4a79ea0a7957337df56b90784ee0a0cdbf7e6710ec735ddda3e9.svg', None, 'https://images.pexels.com/photos/249211/pexels-photo-249211.jpeg?h=350&auto=compress&cs=tinysrgb', 'https://static.pexels.com/users/avatars/53083/joel-carter-792-small.jpeg', 'https://images.pexels.com/photos/249220/pexels-photo-249220.jpeg?h=350&auto=compress&cs=tinysrgb', 'https://static.pexels.com/users/avatars/68736/mariya-tyutina-902-small.jpeg', 'https://images.pexels.com/photos/249320/pexels-photo-249320.jpeg?h=350&auto=compress&cs=tinysrgb', 'https://static.pexels.com/users/avatars/45616/ikramshaari-photography-840-small.jpeg', 'https://images.pexels.com/photos/250157/pexels-photo-250157.jpeg?h=350&auto=compress&cs=tinysrgb', 'https://static.pexels.com/users/avatars/67454/inna-lesyk-174-small.jpeg', 'https://images.pexels.com/photos/251289/pexels-photo-251289.jpeg?h=350&auto=compress&cs=tinysrgb', 'https://static.pexels.com/users/avatars/592/pawel-malinowski-908-small.jpeg', 'https://images.pexels.com/photos/254054/pexels-photo-254054.jpeg?h=350&auto=compress&cs=tinysrgb', 'https://static.pexels.com/users/avatars/53083/joel-carter-792-small.jpeg', 'https://images.pexels.com/photos/254123/pexels-photo-254123.jpeg?h=350&auto=compress&cs=tinysrgb', 'https://static.pexels.com/users/avatars/592/pawel-malinowski-908-small.jpeg', 'https://images.pexels.com/photos/254125/pexels-photo-254125.jpeg?h=350&auto=compress&cs=tinysrgb', 'https://static.pexels.com/users/avatars/592/pawel-malinowski-908-small.jpeg', 'https://images.pexels.com/photos/255296/pexels-photo-255296.jpeg?h=350&auto=compress&cs=tinysrgb', 'https://static.pexels.com/users/avatars/6064/erkan-utu-449-small.jpeg', 'https://images.pexels.com/photos/256051/pexels-photo-256051.jpeg?h=350&auto=compress&cs=tinysrgb', 'https://static.pexels.com/users/avatars/57674/uva-rova-120-small.png', 'https://images.pexels.com/photos/266042/pexels-photo-266042.jpeg?h=350&auto=compress&cs=tinysrgb', 'https://static.pexels.com/users/avatars/4672/kaique-rocha-298-small.jpeg', 'https://images.pexels.com/photos/266043/pexels-photo-266043.jpeg?h=350&auto=compress&cs=tinysrgb', 'https://static.pexels.com/users/avatars/4672/kaique-rocha-298-small.jpeg', '/assets/flags/en-9ac49f52fbe3cc86ef500da8d7dfac4468c0e98419808425a9cdc1af7714cee1.png', '/assets/flags/de-be3be524c1fce804f942bf1c15b700fa6c5cdec93e636b907d58e65907ab911f.png']\n"
     ]
    },
    {
     "data": {
      "text/plain": [
       "0"
      ]
     },
     "execution_count": 20,
     "metadata": {},
     "output_type": "execute_result"
    }
   ],
   "source": [
    "url='https://www.pexels.com/'\n",
    "get_images(url)"
   ]
  },
  {
   "cell_type": "code",
   "execution_count": null,
   "metadata": {},
   "outputs": [],
   "source": []
  }
 ],
 "metadata": {
  "kernelspec": {
   "display_name": "Python 3",
   "language": "python",
   "name": "python3"
  },
  "language_info": {
   "codemirror_mode": {
    "name": "ipython",
    "version": 3
   },
   "file_extension": ".py",
   "mimetype": "text/x-python",
   "name": "python",
   "nbconvert_exporter": "python",
   "pygments_lexer": "ipython3",
   "version": "3.6.2"
  }
 },
 "nbformat": 4,
 "nbformat_minor": 2
}
