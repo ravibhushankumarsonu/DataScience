{
 "cells": [
  {
   "cell_type": "code",
   "execution_count": 1,
   "metadata": {
    "collapsed": true
   },
   "outputs": [],
   "source": [
    "import bson\n",
    "import matplotlib.pyplot as plt\n",
    "import numpy as np\n",
    "import io\n",
    "import pandas as pd"
   ]
  },
  {
   "cell_type": "code",
   "execution_count": 2,
   "metadata": {
    "collapsed": true
   },
   "outputs": [],
   "source": [
    "file=open('employee.bson','rb')\n",
    "Data=bson.loads(file.read())"
   ]
  },
  {
   "cell_type": "code",
   "execution_count": 3,
   "metadata": {},
   "outputs": [
    {
     "name": "stdout",
     "output_type": "stream",
     "text": [
      "['_id', 'employee_id', 'full_name', 'first_name', 'last_name', 'position_id', 'position_title', 'store_id', 'department_id', 'birth_date', 'hire_date', 'end_date', 'salary', 'supervisor_id', 'education_level', 'marital_status', 'gender', 'management_role']\n"
     ]
    }
   ],
   "source": [
    "print(list(Data.keys()))"
   ]
  },
  {
   "cell_type": "code",
   "execution_count": 28,
   "metadata": {},
   "outputs": [
    {
     "name": "stdout",
     "output_type": "stream",
     "text": [
      "12\n"
     ]
    }
   ],
   "source": [
    "print(len(Data['full_name']))"
   ]
  },
  {
   "cell_type": "code",
   "execution_count": 30,
   "metadata": {},
   "outputs": [
    {
     "name": "stdout",
     "output_type": "stream",
     "text": [
      "F "
     ]
    }
   ],
   "source": [
    "for items in Data['gender']:\n",
    "    print(items,end=' ')"
   ]
  },
  {
   "cell_type": "code",
   "execution_count": 31,
   "metadata": {},
   "outputs": [
    {
     "name": "stdout",
     "output_type": "stream",
     "text": [
      "{'_id': b'53c7c973ccf26e6de850c01a', 'employee_id': 1, 'full_name': 'Sheri Nowmer', 'first_name': 'Sheri', 'last_name': 'Nowmer', 'position_id': 1, 'position_title': 'President', 'store_id': 0, 'department_id': 1, 'birth_date': datetime.datetime(1961, 8, 25, 23, 0, tzinfo=<UTC>), 'hire_date': datetime.datetime(1994, 12, 1, 0, 0, tzinfo=<UTC>), 'end_date': datetime.datetime(2013, 11, 9, 22, 28, 20, tzinfo=<UTC>), 'salary': 80000.0, 'supervisor_id': 0, 'education_level': 'Graduate Degree', 'marital_status': 'S', 'gender': 'F', 'management_role': 'Senior Management'}\n"
     ]
    }
   ],
   "source": [
    "print(Data)"
   ]
  },
  {
   "cell_type": "code",
   "execution_count": 5,
   "metadata": {},
   "outputs": [],
   "source": [
    "file1=open('categories.bson','rb')\n",
    "Data1=bson.loads(file1.read())"
   ]
  },
  {
   "cell_type": "code",
   "execution_count": 6,
   "metadata": {},
   "outputs": [
    {
     "name": "stdout",
     "output_type": "stream",
     "text": [
      "<class 'dict'>\n"
     ]
    }
   ],
   "source": [
    "print(type(Data1))"
   ]
  },
  {
   "cell_type": "code",
   "execution_count": 7,
   "metadata": {},
   "outputs": [
    {
     "name": "stdout",
     "output_type": "stream",
     "text": [
      "['_id', 'name', 'allowOrder', 'createdTime', '__v']\n"
     ]
    }
   ],
   "source": [
    "print(list(Data1.keys()))"
   ]
  },
  {
   "cell_type": "code",
   "execution_count": 12,
   "metadata": {},
   "outputs": [
    {
     "name": "stdout",
     "output_type": "stream",
     "text": [
      "dict_items([('_id', b'52bab86e2ea37bff4c000001'), ('name', 'Cà phê'), ('allowOrder', True), ('createdTime', datetime.datetime(2013, 12, 25, 10, 50, 22, 770000, tzinfo=<UTC>)), ('__v', 0)])\n"
     ]
    }
   ],
   "source": [
    "print(Data1.items())\n",
    "#df=pd.DataFrame(Data1.items())"
   ]
  },
  {
   "cell_type": "code",
   "execution_count": 41,
   "metadata": {},
   "outputs": [
    {
     "name": "stdout",
     "output_type": "stream",
     "text": [
      "HTTP/1.1 200 OK\r\n",
      "Connection: close\r\n",
      "Content-Type: text/html; charset=UTF-8\r\n",
      "\r\n",
      "\n",
      "<html xmlns=\"http://www.w3.org/1999/xhtml\">\n",
      "<head>\n",
      "<title>filemaker</title>\n",
      "<meta http-equiv=\"Content-Type\" content=\"text/html; charset=utf-8\" />\n",
      "<link href=\"style.css\" rel=\"stylesheet\" type=\"text/css\" />\n",
      "</head>   \n",
      "<body><div id=\"container\">\n",
      "      <fieldset><h1><center>filemaker</center></h1></fieldset>\n",
      "      <form action=\"http://www.google.com\" method=\"post\" class=\"niceform\">\n",
      "        <fieldset> \n",
      "        <h2>Administrator Panel</h2>\n",
      "        <dl>\n",
      "            <dt><label for=\"email\">Login:</label></dt>\n",
      "            <dd><input type=\"text\" name=\"login\" id=\"login\" size=\"32\" maxlength=\"20\" /></dd>\n",
      "        </dl>\n",
      "        <dl>\n",
      "            <dt><label for=\"password\">Password:</label></dt>\n",
      "            <dd><input type=\"password\" name=\"password\" id=\"password\" size=\"32\" maxlength=\"32\" /></dd>\n",
      "        </dl>\n",
      "        <dl>\n",
      "            <dt><input type=\"submit\" name=\"submit\" id=\"submit\" value=\"Submit\" /></dt>\n",
      "        </dl>\n",
      "        </fieldset></form>\n",
      "        <fieldset>\n",
      "            <h2>My Resource</h2>\n",
      "            <dl>\n",
      "                <p>Many of his expressions were still fresh in her memory. She was _now_ <a href='/dork.php=http:/1durch0.de/\"plog/forum/\"phporacleadmin/php/xampp'>None</a> gained her point, and had time to consider of it. Her reflections were <a href='//pagina.php'>None</a> speaking) a stranger to our family, should have been amongst you at such <a href='/phpmyadmin2/upgrading.html'>None</a> exceedingly. If what I have hitherto said can appear to you in the form <a href='/axis-cgi/mjpg/dork.php=http:'>None</a> Her father was walking about the room, looking grave and anxious. <a href='/dork.php=http:/1durch0.de/\"plog/forum/crazywwwboard.cgi'>None</a> chance of happiness with him is as fair as most people can boast on <a href='//administrator/components/com_serverstat/install.serverstat.php'>None</a> Elizabeth made no objection; the door was then allowed to be shut, and <a href='/dork.php=http:/1durch0.de/servlet/forum'>None</a> \"Well, then--supposing them to be in London. They may be there, though <a href='/dork.php=http:/1durch0.de/\"plog/forum/\"phpOracleAdmin/dso.html'>None</a> daring as to risk their happiness on the chance of being asked a second <a href='/com_letterman&task=http:/meckilino.renzag.de'>None</a> and have his library to himself; for thither Mr. Collins had followed <a href='/shop.pl/page=http:/gioia-m.jp/assets/snippets/reflect/\"bookmark.htm/'>vbulletin</a> as atoned for by your obstinacy in adhering to it?\" <a href='/doceboCms/class/class.dashboard_cms.php//wp-content/themes/constructor/layouts/thumb.php'>Checking your browser</a> Netherfield the whole winter; a report which highly incensed Mrs. <a href='//components/com_extended_registration/registration_detailed.inc.php'>None</a> intercourse renewed after many years' discontinuance. <a href='/doceboCms/class/class.dashboard_cms.php//intern/clan/member_add.php'>Network</a> such a father and mother, and such low connections, I am afraid there is <a href='/axis-cgi/mjpg/dork.php=http:/1durch0.de'>None</a> out that Mrs. Collins's joints of meat were too large for her family. <a href='/dork.php=http:/1durch0.de/gochat'>None</a> Elizabeth angrily; \"for I have heard you accuse him of nothing worse <a href='/dork.php=http:/1durch0.de/\"plog/forum/Sites.dat'>None</a> thinking. There is in everything a most remarkable resemblance of <a href='/doc//classes.php'>None</a> While thus engaged, Elizabeth had a fair opportunity of deciding whether <a href='/admin/login.asp'>None</a> Gutenberg-tm eBooks with only a loose network of volunteer support. <a href='/dork.php=http:/1durch0.de/cgi-bin.class+union+all+select+null,null,null,null,null,null,null,null,null,null,null,null,null,null,null,null,null,null,null,null,null,null,null,null,null,null,null,null,null,null,null,null,null--'>None</a> less sheltered than on the other side, allowed them to see him before <a href='/=http:/parascape.org/Shell.txt'>gmail</a> nephew are formed for each other. They are descended, on the maternal <a href='/manager/admin/'>None</a> Chapter 14 <a href='/dork.php=http:/1durch0.de/\"plog/forum//\"phpOracleAdmin/filter.html'>None</a> works.  See paragraph 1.E below. <a href='//wp-content/themes/headlines/cache/library/timthumb/thumb.php'>None</a> shall probably trespass on your hospitality till the Saturday se'ennight <a href='/gb/2us/Rio/appserv//wp-content/themes/Modest/timthumb.php'>None</a> Chapter 28 <a href='/app/common/lib/codeBeautifier/Beautifier/Core.php'>WebEdit</a> \"I have every reason in the world to think ill of you. No motive can <a href='//skin/uks_qnaboard_v2010////write.phpdir=http://187.61.62.211/wp-content/uploads/2011/allnet.jpg'>None</a> he first came into Hertfordshire last year, I thought how likely it was <a href='phpSysInfo/'>None</a> Their sister's wedding day arrived; and Jane and Elizabeth felt for her <a href='/dork.php=http:/1durch0.de/servlet/SnoopServlet.BAK'>None</a> soon as she could. To the girls, who could not listen to their cousin, <a href='/dork.php=http:/1durch0.de/\"plog/forum/\"phporacleadmin/php/zebra.conf'>Login</a> pleasure. Mary had heard herself mentioned to Miss Bingley as the most <a href='/com_letterman&task=http://help4friendz.de/page/kontakt/guestbook/captcha_temp/avuwat/wes/&Itemid=&mosConfig_absolute_path=http:/176.31.15.20/pbots.txt'>PHPClickLog</a> repaid?\" <a href='//elxis-cms/index.php'>Network Query Tool</a> Wickham. I know not in what manner, under what form of falsehood he <a href='//modules/My_eGallery/public/displayCategory.php'>None</a> accompanying her rejection. He who, she had been persuaded, would avoid <a href='smb.conf'>None</a> ceremonious card. Jane pictured to herself a happy evening in the <a href='/+content='phpAdsNew+2.0+-+http://adxmlrpc.php'>None</a> and Jane seem so well to understand?\" <a href='fcgi-bin/echo'>Network Query Tool</a> or Lady Lucas without being rude, and many months were gone before she <a href='/dork.php=http:/1durch0.de/\"plog/vhosts/'>None</a> of men, and that he hates me.\" <a href='None'>None</a> of his dear friends at Netherfield, or his dignified relations <a href='/doceboCms/class//admin/include/lib.module.php'>None</a> raising expectations which might only end in disappointment; for in her <a href='/lib/functions.php'>None</a> While the family were in this confusion, Charlotte Lucas came to spend <a href='/dork.php=http:/1durch0.de/.br/developer/'>nrg-</a> me! They were excessively sorry to go! But so they always are. The <a href='/catalogue//index.php'>None</a> \"I am astonished at his intimacy with Mr. Bingley! How can Mr. Bingley, <a href='/shop.pl/page=http:/gioia-m.jp/assets/snippets/reflect/imp/howto'>None</a> rather thin, but, however, the Little Theatre was open. Well, and so <a href='//contenido/includes/include.newsletter_jobs_subnav.php'>None</a> nothing _he_ may not like to hear.\" <a href='xampp/index'>Subject</a> felt before; and he expressed himself on the occasion as sensibly and as <a href='/com_letterman&task=http:/meckilino.renzag.de/shop_v2/data/091115658642'>None</a> Pemberley. You blamed me for coming?\" <a href='//wp-content/themes/headlines/thum.php'>None</a> her authoritative manner, and the rest from the pride for her <a href='/doceboCms/class/components/com_flyspray/'/dork.php=http:/1durch0.de'>None</a> Jane confessed herself a little surprised at the match; but she said <a href='/public_includes/pub_blocks//inc/cmses/aedating4CMS.php'>RT is ? Copyright</a> house, he was used to be free from them there; his civility, therefore, <a href='/dork.php=http://pastebin.com/raw.php'>None</a> </p>\n",
      "            </dl>\n",
      "        </fieldset>\n",
      "        <fieldset>\n",
      "            <dl><p id=\"footer\">Epic Footer Powered By</p></dl>\n",
      "        </fieldset>\n",
      "</div>\n",
      "</body>\n",
      "</html>\n"
     ]
    }
   ],
   "source": []
  },
  {
   "cell_type": "code",
   "execution_count": null,
   "metadata": {
    "collapsed": true
   },
   "outputs": [],
   "source": []
  }
 ],
 "metadata": {
  "kernelspec": {
   "display_name": "Python 3",
   "language": "python",
   "name": "python3"
  },
  "language_info": {
   "codemirror_mode": {
    "name": "ipython",
    "version": 3
   },
   "file_extension": ".py",
   "mimetype": "text/x-python",
   "name": "python",
   "nbconvert_exporter": "python",
   "pygments_lexer": "ipython3",
   "version": "3.6.2"
  }
 },
 "nbformat": 4,
 "nbformat_minor": 2
}
