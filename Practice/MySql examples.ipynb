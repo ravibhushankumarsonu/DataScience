{
 "cells": [
  {
   "cell_type": "markdown",
   "metadata": {},
   "source": [
    "# Working with MySql and Python\n",
    " > Mysql connector with python provides a rich environment of the devlopment\n",
    "            "
   ]
  },
  {
   "cell_type": "code",
   "execution_count": 1,
   "metadata": {
    "collapsed": true
   },
   "outputs": [],
   "source": [
    "import datetime\n",
    "import mysql.connector\n",
    "import pandas as pd\n",
    "import matplotlib.pyplot as plt\n",
    "import numpy as np"
   ]
  },
  {
   "cell_type": "markdown",
   "metadata": {},
   "source": [
    "\n",
    "\n",
    "To connect to the Mysql connection\n",
    "'''python\n",
    "\n",
    "'''\n"
   ]
  },
  {
   "cell_type": "code",
   "execution_count": 10,
   "metadata": {},
   "outputs": [],
   "source": [
    "def runquery(query,database):\n",
    "    cnx = mysql.connector.connect(user='root',password='Ravi@8603', database=database)\n",
    "    cursor = cnx.cursor()\n",
    "    #query = (\"select * from student natural join department\")\n",
    "    cursor.execute(query)\n",
    "    df=pd.DataFrame(cursor.fetchall())\n",
    "    df.columns=cursor.column_names;\n",
    "    #print(cursor.column_names)\n",
    "    print(df.to_string())\n",
    "    cursor.close()\n",
    "    cnx.close()"
   ]
  },
  {
   "cell_type": "code",
   "execution_count": 8,
   "metadata": {},
   "outputs": [
    {
     "name": "stdout",
     "output_type": "stream",
     "text": [
      "     dept_name     ID      name tot_cred building     budget\n",
      "0      Biology  98988    Tanaka      120   Watson   90000.00\n",
      "1   Comp. Sci.  00128     Zhang      102   Taylor  100000.00\n",
      "2   Comp. Sci.  12345   Shankar       32   Taylor  100000.00\n",
      "3   Comp. Sci.  54321  Williams       54   Taylor  100000.00\n",
      "4   Comp. Sci.  76543     Brown       58   Taylor  100000.00\n",
      "5   Elec. Eng.  76653       Aoi       60   Taylor   85000.00\n",
      "6   Elec. Eng.  98765  Bourikas       98   Taylor   85000.00\n",
      "7      Finance  23121    Chavez      110  Painter  120000.00\n",
      "8      History  19991    Brandt       80  Painter   50000.00\n",
      "9        Music  55739   Sanchez       38  Packard   80000.00\n",
      "10     Physics  44553   Peltier       56   Watson   70000.00\n",
      "11     Physics  45678      Levy       46   Watson   70000.00\n",
      "12     Physics  70557      Snow        0   Watson   70000.00\n"
     ]
    }
   ],
   "source": [
    "query = (\"select * from student natural join department\")\n",
    "runquery(query,\"\")"
   ]
  },
  {
   "cell_type": "code",
   "execution_count": 9,
   "metadata": {},
   "outputs": [
    {
     "name": "stdout",
     "output_type": "stream",
     "text": [
      "     dept_name     ID      name tot_cred course_id                       title credits\n",
      "0   Comp. Sci.  00128     Zhang      102    CS-101  Intro. to Computer Science       4\n",
      "1   Comp. Sci.  00128     Zhang      102    CS-190                 Game Design       4\n",
      "2   Comp. Sci.  00128     Zhang      102    CS-315                    Robotics       3\n",
      "3   Comp. Sci.  00128     Zhang      102    CS-319            Image Processing       3\n",
      "4   Comp. Sci.  00128     Zhang      102    CS-347    Database System Concepts       3\n",
      "5   Comp. Sci.  12345   Shankar       32    CS-101  Intro. to Computer Science       4\n",
      "6   Comp. Sci.  12345   Shankar       32    CS-190                 Game Design       4\n",
      "7   Comp. Sci.  12345   Shankar       32    CS-315                    Robotics       3\n",
      "8   Comp. Sci.  12345   Shankar       32    CS-319            Image Processing       3\n",
      "9   Comp. Sci.  12345   Shankar       32    CS-347    Database System Concepts       3\n",
      "10     History  19991    Brandt       80   HIS-351               World History       3\n",
      "11     Finance  23121    Chavez      110   FIN-201          Investment Banking       3\n",
      "12     Physics  44553   Peltier       56   PHY-101         Physical Principles       4\n",
      "13     Physics  45678      Levy       46   PHY-101         Physical Principles       4\n",
      "14  Comp. Sci.  54321  Williams       54    CS-101  Intro. to Computer Science       4\n",
      "15  Comp. Sci.  54321  Williams       54    CS-190                 Game Design       4\n",
      "16  Comp. Sci.  54321  Williams       54    CS-315                    Robotics       3\n",
      "17  Comp. Sci.  54321  Williams       54    CS-319            Image Processing       3\n",
      "18  Comp. Sci.  54321  Williams       54    CS-347    Database System Concepts       3\n",
      "19       Music  55739   Sanchez       38    MU-199      Music Video Production       3\n",
      "20     Physics  70557      Snow        0   PHY-101         Physical Principles       4\n",
      "21  Comp. Sci.  76543     Brown       58    CS-101  Intro. to Computer Science       4\n",
      "22  Comp. Sci.  76543     Brown       58    CS-190                 Game Design       4\n",
      "23  Comp. Sci.  76543     Brown       58    CS-315                    Robotics       3\n",
      "24  Comp. Sci.  76543     Brown       58    CS-319            Image Processing       3\n",
      "25  Comp. Sci.  76543     Brown       58    CS-347    Database System Concepts       3\n",
      "26  Elec. Eng.  76653       Aoi       60    EE-181   Intro. to Digital Systems       3\n",
      "27  Elec. Eng.  98765  Bourikas       98    EE-181   Intro. to Digital Systems       3\n",
      "28     Biology  98988    Tanaka      120   BIO-101           Intro. to Biology       4\n",
      "29     Biology  98988    Tanaka      120   BIO-301                    Genetics       4\n",
      "30     Biology  98988    Tanaka      120   BIO-399       Computational Biology       3\n"
     ]
    }
   ],
   "source": [
    "query = (\"select * from student natural join course\")\n",
    "runquery(query)"
   ]
  },
  {
   "cell_type": "code",
   "execution_count": null,
   "metadata": {
    "collapsed": true
   },
   "outputs": [],
   "source": []
  }
 ],
 "metadata": {
  "kernelspec": {
   "display_name": "Python 3",
   "language": "python",
   "name": "python3"
  },
  "language_info": {
   "codemirror_mode": {
    "name": "ipython",
    "version": 3
   },
   "file_extension": ".py",
   "mimetype": "text/x-python",
   "name": "python",
   "nbconvert_exporter": "python",
   "pygments_lexer": "ipython3",
   "version": "3.6.2"
  }
 },
 "nbformat": 4,
 "nbformat_minor": 2
}
