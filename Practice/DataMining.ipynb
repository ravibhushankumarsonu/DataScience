{
 "cells": [
  {
   "cell_type": "markdown",
   "metadata": {},
   "source": [
    "<h1>DataScraping and storing</h1>"
   ]
  },
  {
   "cell_type": "code",
   "execution_count": 1,
   "metadata": {},
   "outputs": [],
   "source": [
    "import matplotlib.pyplot as plt\n",
    "import numpy as np\n",
    "import pandas as pd\n",
    "from bs4 import BeautifulSoup\n",
    "import requests\n",
    "import urllib3"
   ]
  },
  {
   "cell_type": "code",
   "execution_count": 10,
   "metadata": {},
   "outputs": [],
   "source": [
    "def make_soup(url):\n",
    "    html=requests.get(url)\n",
    "    return BeautifulSoup(html.text,'html.parser')"
   ]
  },
  {
   "cell_type": "code",
   "execution_count": 22,
   "metadata": {},
   "outputs": [],
   "source": [
    "def download_image(url,link):\n",
    "    try:\n",
    "        filename=link.strip().split('/')[-1].strip()\n",
    "        src=urljoin(url, link)\n",
    "        print('Getting '+ filename)\n",
    "    except:\n",
    "        print('An error occured. Continuing'+ )\n",
    "    return \n",
    "    "
   ]
  },
  {
   "cell_type": "code",
   "execution_count": 23,
   "metadata": {},
   "outputs": [],
   "source": [
    "def get_images(url):\n",
    "    soup= make_soup(url)\n",
    "    #print(soup.prettify()[0:1000])\n",
    "    images=[img for img in soup.findAll('img')]\n",
    "    #print(images)\n",
    "    print(str(len(images))+ \" images found.\")\n",
    "    print('Downloading images to current working directory.')\n",
    "    image_links=[each.get('src') for each in images]\n",
    "    #print(image_links)\n",
    "    for each in image_links:\n",
    "        download_image(url, each)\n",
    "    print('Done!')\n",
    "    return 0"
   ]
  },
  {
   "cell_type": "code",
   "execution_count": 24,
   "metadata": {},
   "outputs": [
    {
     "name": "stdout",
     "output_type": "stream",
     "text": [
      "35 images found.\n",
      "Downloading images to current working directory.\n",
      "An error occured. Continuing\n",
      "An error occured. Continuing\n",
      "An error occured. Continuing\n",
      "An error occured. Continuing\n",
      "An error occured. Continuing\n",
      "An error occured. Continuing\n",
      "An error occured. Continuing\n",
      "An error occured. Continuing\n",
      "An error occured. Continuing\n",
      "An error occured. Continuing\n",
      "An error occured. Continuing\n",
      "An error occured. Continuing\n",
      "An error occured. Continuing\n",
      "An error occured. Continuing\n",
      "An error occured. Continuing\n",
      "An error occured. Continuing\n",
      "An error occured. Continuing\n",
      "An error occured. Continuing\n",
      "An error occured. Continuing\n",
      "An error occured. Continuing\n",
      "An error occured. Continuing\n",
      "An error occured. Continuing\n",
      "An error occured. Continuing\n",
      "An error occured. Continuing\n",
      "An error occured. Continuing\n",
      "An error occured. Continuing\n",
      "An error occured. Continuing\n",
      "An error occured. Continuing\n",
      "An error occured. Continuing\n",
      "An error occured. Continuing\n",
      "An error occured. Continuing\n",
      "An error occured. Continuing\n",
      "An error occured. Continuing\n",
      "An error occured. Continuing\n",
      "An error occured. Continuing\n",
      "Done!\n"
     ]
    },
    {
     "data": {
      "text/plain": [
       "0"
      ]
     },
     "execution_count": 24,
     "metadata": {},
     "output_type": "execute_result"
    }
   ],
   "source": [
    "url='https://www.pexels.com/'\n",
    "get_images(url)"
   ]
  },
  {
   "cell_type": "code",
   "execution_count": null,
   "metadata": {},
   "outputs": [],
   "source": []
  }
 ],
 "metadata": {
  "kernelspec": {
   "display_name": "Python 3",
   "language": "python",
   "name": "python3"
  },
  "language_info": {
   "codemirror_mode": {
    "name": "ipython",
    "version": 3
   },
   "file_extension": ".py",
   "mimetype": "text/x-python",
   "name": "python",
   "nbconvert_exporter": "python",
   "pygments_lexer": "ipython3",
   "version": "3.6.2"
  }
 },
 "nbformat": 4,
 "nbformat_minor": 2
}
